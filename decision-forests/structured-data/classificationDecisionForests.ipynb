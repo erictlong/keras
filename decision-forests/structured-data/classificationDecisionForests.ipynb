{
 "cells": [
  {
   "attachments": {},
   "cell_type": "markdown",
   "metadata": {},
   "source": [
    "## Classification with TensorFlow Decision Forests\n",
    "\n",
    "Models include Random forests, gradient boosted trees and carts, and can be used for regression, classification and raking task\n",
    "\n",
    "Example below used gradient boosted trees model in binary classification of structured data, and covers the following:\n",
    "- Build a decision forests model by specifying the input\n",
    "- implement a custom binary target encoder\n",
    "- Encode the categorical features as embedding, train these embdding in simple nn model"
   ]
  },
  {
   "cell_type": "code",
   "execution_count": 1,
   "metadata": {},
   "outputs": [],
   "source": [
    "import math\n",
    "import urllib\n",
    "import numpy as np\n",
    "import pandas as pd\n",
    "import tensorflow as tf\n",
    "from tensorflow import keras\n",
    "from tensorflow.keras import layers\n",
    "import tensorflow_decision_forests as tfdf"
   ]
  },
  {
   "attachments": {},
   "cell_type": "markdown",
   "metadata": {},
   "source": [
    "### Prepare the data\n",
    "\n",
    "Dataset will be from the united states census income dataset provided by uc irvine\n",
    "\n",
    "Example will be an binary classification to determine whether a person makes over 50k a year"
   ]
  },
  {
   "cell_type": "code",
   "execution_count": 2,
   "metadata": {},
   "outputs": [],
   "source": [
    "BASE_PATH = \"https://archive.ics.uci.edu/ml/machine-learning-databases/census-income-mld/census-income\"\n",
    "\n",
    "CSV_HEADER = [\n",
    "    l.decode(\"utf-8\").split(\":\")[0].replace(\" \", \"_\")\n",
    "    for l in urllib.request.urlopen(f\"{BASE_PATH}.names\")\n",
    "    if not l.startswith(b\"|\")\n",
    "][2:]\n",
    "\n",
    "CSV_HEADER.append(\"income_level\")\n",
    "\n",
    "train_data = pd.read_csv(f\"{BASE_PATH}.data.gz\", header=None, names=CSV_HEADER,)\n",
    "test_data = pd.read_csv(f\"{BASE_PATH}.test.gz\", header=None, names=CSV_HEADER,)"
   ]
  },
  {
   "attachments": {},
   "cell_type": "markdown",
   "metadata": {},
   "source": [
    "### Define dataset metadata\n",
    "\n",
    "Define the metadata of the dataset tha twill be useful for encoding the input featuers \n"
   ]
  }
 ],
 "metadata": {
  "kernelspec": {
   "display_name": "keras-env",
   "language": "python",
   "name": "python3"
  },
  "language_info": {
   "codemirror_mode": {
    "name": "ipython",
    "version": 3
   },
   "file_extension": ".py",
   "mimetype": "text/x-python",
   "name": "python",
   "nbconvert_exporter": "python",
   "pygments_lexer": "ipython3",
   "version": "3.8.9"
  },
  "orig_nbformat": 4,
  "vscode": {
   "interpreter": {
    "hash": "0176d8e07f50d6f9d41e4d247411e051f24b378f20831339424b9cbb80e86332"
   }
  }
 },
 "nbformat": 4,
 "nbformat_minor": 2
}
