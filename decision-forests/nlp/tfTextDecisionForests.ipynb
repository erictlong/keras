{
 "cells": [
  {
   "attachments": {},
   "cell_type": "markdown",
   "metadata": {},
   "source": [
    "# Using text and neural network features\n",
    "\n",
    "Learn about some more advance capabilities of TF-DF, including how to deal with the natural language features. We will learn the following:\n",
    "\n",
    "1. Train a random forest that consumes text features natively as categorical sets\n",
    "\n",
    "\n",
    "## Use raw text as features\n",
    "\n",
    "TF-DF can conusme categorical-set features natively. Categorical sets represent text features as bags of words (or n-grams). Example:\n",
    "- \"the little blue dog\" -> {\"the\", \"little\", \"blue\", \"dog\"}\n",
    "\n",
    "We will train a random forest on the standford sentiment treebank (sst) dataset.\n",
    "\n",
    "Object of this dataset is to classify sentences as carrying a positive or negative sentiment. Youll will use the binary classification version of the dataset curated in tensorflow datasets\n",
    "\n",
    "**Note**: categorical-set features can be expensive to train. We will be using random forest with 20 trees (might test more)\n",
    "\n",
    "url: https://www.tensorflow.org/decision_forests/tutorials/intermediate_colab\n",
    "\n",
    "\n"
   ]
  },
  {
   "attachments": {},
   "cell_type": "markdown",
   "metadata": {},
   "source": [
    "## Setup"
   ]
  },
  {
   "cell_type": "code",
   "execution_count": 1,
   "metadata": {},
   "outputs": [],
   "source": [
    "import tensorflow_decision_forests as tfdf\n",
    "\n",
    "import os\n",
    "import numpy as np\n",
    "import pandas as pd\n",
    "import tensorflow as tf\n",
    "import math"
   ]
  },
  {
   "cell_type": "code",
   "execution_count": 2,
   "metadata": {},
   "outputs": [
    {
     "name": "stderr",
     "output_type": "stream",
     "text": [
      "/Users/eric/keras-env/lib/python3.8/site-packages/tqdm/auto.py:22: TqdmWarning: IProgress not found. Please update jupyter and ipywidgets. See https://ipywidgets.readthedocs.io/en/stable/user_install.html\n",
      "  from .autonotebook import tqdm as notebook_tqdm\n",
      "2022-12-26 09:57:16.742806: W tensorflow/core/platform/cloud/google_auth_provider.cc:184] All attempts to get a Google authentication bearer token failed, returning an empty token. Retrieving token from files failed with \"NOT_FOUND: Could not locate the credentials file.\". Retrieving token from GCE failed with \"FAILED_PRECONDITION: Error executing an HTTP request: libcurl code 6 meaning 'Couldn't resolve host name', error details: Could not resolve host: metadata\".\n"
     ]
    },
    {
     "name": "stdout",
     "output_type": "stream",
     "text": [
      "\u001b[1mDownloading and preparing dataset 7.09 MiB (download: 7.09 MiB, generated: 7.22 MiB, total: 14.31 MiB) to /Users/eric/tensorflow_datasets/glue/sst2/2.0.0...\u001b[0m\n"
     ]
    },
    {
     "name": "stderr",
     "output_type": "stream",
     "text": [
      "Dl Completed...: 0 url [00:00, ? url/s]\n",
      "Dl Completed...:   0%|          | 0/1 [00:00<?, ? url/s]\n",
      "Dl Completed...:   0%|          | 0/1 [00:00<?, ? url/s]\n",
      "Dl Completed...:   0%|          | 0/1 [00:00<?, ? url/s]\n",
      "Dl Completed...:   0%|          | 0/1 [00:00<?, ? url/s]\n",
      "Dl Completed...:   0%|          | 0/1 [00:00<?, ? url/s]\n",
      "Dl Completed...:   0%|          | 0/1 [00:01<?, ? url/s]\n",
      "Dl Completed...:   0%|          | 0/1 [00:01<?, ? url/s]\n",
      "Dl Completed...:   0%|          | 0/1 [00:01<?, ? url/s]\n",
      "Dl Completed...:   0%|          | 0/1 [00:01<?, ? url/s]\n",
      "Dl Completed...: 100%|██████████| 1/1 [00:01<00:00,  1.20s/ url]\n",
      "Dl Completed...: 100%|██████████| 1/1 [00:01<00:00,  1.20s/ url]\n",
      "Dl Completed...: 100%|██████████| 1/1 [00:01<00:00,  1.20s/ url]\n",
      "Dl Completed...: 100%|██████████| 1/1 [00:01<00:00,  1.20s/ url]\n",
      "Dl Completed...: 100%|██████████| 1/1 [00:01<00:00,  1.20s/ url]\n",
      "Dl Completed...: 100%|██████████| 1/1 [00:01<00:00,  1.20s/ url]\n",
      "Dl Completed...: 100%|██████████| 1/1 [00:01<00:00,  1.20s/ url]\n",
      "Dl Completed...: 100%|██████████| 1/1 [00:01<00:00,  1.20s/ url]\n",
      "Dl Completed...: 100%|██████████| 1/1 [00:01<00:00,  1.20s/ url]\n",
      "Dl Completed...: 100%|██████████| 1/1 [00:01<00:00,  1.20s/ url]\n",
      "Dl Completed...: 100%|██████████| 1/1 [00:01<00:00,  1.20s/ url]\n",
      "Dl Completed...: 100%|██████████| 1/1 [00:01<00:00,  1.20s/ url]\n",
      "\u001b[A\n",
      "Dl Completed...: 100%|██████████| 1/1 [00:01<00:00,  1.20s/ url]\n",
      "Dl Completed...: 100%|██████████| 1/1 [00:01<00:00,  1.20s/ url]\n",
      "Dl Completed...: 100%|██████████| 1/1 [00:01<00:00,  1.20s/ url]\n",
      "Dl Completed...: 100%|██████████| 1/1 [00:01<00:00,  1.20s/ url]\n",
      "Dl Completed...: 100%|██████████| 1/1 [00:01<00:00,  1.20s/ url]\n",
      "Dl Completed...: 100%|██████████| 1/1 [00:01<00:00,  1.20s/ url]\n",
      "Dl Completed...: 100%|██████████| 1/1 [00:01<00:00,  1.20s/ url]\n",
      "Dl Completed...: 100%|██████████| 1/1 [00:01<00:00,  1.20s/ url]\n",
      "Dl Completed...: 100%|██████████| 1/1 [00:01<00:00,  1.20s/ url]\n",
      "Dl Completed...: 100%|██████████| 1/1 [00:01<00:00,  1.20s/ url]\n",
      "Dl Completed...: 100%|██████████| 1/1 [00:01<00:00,  1.20s/ url]\n",
      "Extraction completed...: 100%|██████████| 11/11 [00:01<00:00,  8.02 file/s]\n",
      "Dl Size...: 100%|██████████| 7/7 [00:01<00:00,  5.09 MiB/s]\n",
      "Dl Completed...: 100%|██████████| 1/1 [00:01<00:00,  1.38s/ url]\n",
      "2022-12-26 09:57:33.608829: I tensorflow/core/common_runtime/pluggable_device/pluggable_device_factory.cc:306] Could not identify NUMA node of platform GPU ID 0, defaulting to 0. Your kernel may not have been built with NUMA support.\n",
      "2022-12-26 09:57:33.609562: I tensorflow/core/common_runtime/pluggable_device/pluggable_device_factory.cc:272] Created TensorFlow device (/job:localhost/replica:0/task:0/device:GPU:0 with 0 MB memory) -> physical PluggableDevice (device: 0, name: METAL, pci bus id: <undefined>)\n"
     ]
    },
    {
     "name": "stdout",
     "output_type": "stream",
     "text": [
      "\u001b[1mDataset glue downloaded and prepared to /Users/eric/tensorflow_datasets/glue/sst2/2.0.0. Subsequent calls will reuse this data.\u001b[0m\n",
      "Metal device set to: Apple M1\n",
      "\n",
      "systemMemory: 8.00 GB\n",
      "maxCacheSize: 2.67 GB\n",
      "\n"
     ]
    }
   ],
   "source": [
    "# load the dataset\n",
    "import tensorflow_datasets as tfds\n",
    "all_ds = tfds.load(\"glue/sst2\")"
   ]
  },
  {
   "cell_type": "code",
   "execution_count": 3,
   "metadata": {},
   "outputs": [
    {
     "name": "stdout",
     "output_type": "stream",
     "text": [
      "{'idx': 163, 'label': -1, 'sentence': b'not even the hanson brothers can save it'}\n",
      "{'idx': 131, 'label': -1, 'sentence': b'strong setup and ambitious goals fade as the film descends into unsophisticated scare tactics and b-film thuggery .'}\n",
      "{'idx': 1579, 'label': -1, 'sentence': b'too timid to bring a sense of closure to an ugly chapter of the twentieth century .'}\n"
     ]
    },
    {
     "name": "stderr",
     "output_type": "stream",
     "text": [
      "2022-12-26 09:59:27.904646: W tensorflow/core/platform/profile_utils/cpu_utils.cc:128] Failed to get CPU frequency: 0 Hz\n",
      "2022-12-26 09:59:27.926187: W tensorflow/core/kernels/data/cache_dataset_ops.cc:856] The calling iterator did not fully read the dataset being cached. In order to avoid unexpected truncation of the dataset, the partially cached contents of the dataset  will be discarded. This can happen if you have an input pipeline similar to `dataset.cache().take(k).repeat()`. You should use `dataset.take(k).cache().repeat()` instead.\n"
     ]
    }
   ],
   "source": [
    "# display the first 3 examples of the test fold\n",
    "for example in all_ds[\"test\"].take(3):\n",
    "    print({attr_name: attr_tensor.numpy() for attr_name, attr_tensor in example.items()})"
   ]
  },
  {
   "attachments": {},
   "cell_type": "markdown",
   "metadata": {},
   "source": [
    "The dataset is modified as follows:\n",
    "1. The raw labels are integers in {-1, 1} but the learning algorithm expects postive integer labels {0, 1}. Therefore the labels are transformed as following: new_labels = (orginal_labels + 1) / 2\n",
    "2. A batch-size of 64 is applied to make reading the dataset more efficient\n",
    "3. The sentence attribute needs to be tokenized. Example \"hello world\" -> [\"hello\", \"world\"]\n",
    "\n",
    "**Note:** This example doesnt use the test split of dataset as it does not have labels. If the split had labels, you could concatenate the validation fold into the train one "
   ]
  },
  {
   "attachments": {},
   "cell_type": "markdown",
   "metadata": {},
   "source": [
    "Some decision forest leanring algorithms do not need validation dataset (eg Random Forests) while others do (Gradient boosted trees in some cases). Since easch learning algorithm under tf-df can use validation data differently, tf-df handles train/validation splits internally. \n",
    "\n",
    "When you have a training and validation sets, They can always be concatenated as input to the learning algorithm"
   ]
  },
  {
   "cell_type": "code",
   "execution_count": 4,
   "metadata": {},
   "outputs": [],
   "source": [
    "def prepare_dataset(example):\n",
    "    label = (example[\"label\"] + 1) // 2\n",
    "    return {\"sentance\" : tf.strings.split(example[\"sentence\"])}, label\n",
    "\n",
    "train_ds = all_ds[\"train\"].batch(100).map(prepare_dataset)\n",
    "test_ds = all_ds[\"validation\"].batch(100).map(prepare_dataset)"
   ]
  },
  {
   "attachments": {},
   "cell_type": "markdown",
   "metadata": {},
   "source": [
    "Finally train and evaluate the model as usual. \n",
    "\n",
    "TF-DF automatically detects multi-valued categorical features as categorical-set"
   ]
  },
  {
   "cell_type": "code",
   "execution_count": 6,
   "metadata": {},
   "outputs": [
    {
     "name": "stdout",
     "output_type": "stream",
     "text": [
      "Use 8 thread(s) for training\n",
      "Use /var/folders/sk/f7k402kx1wvdmcz91gdz6hs00000gn/T/tmp1tb0fuw3 as temporary training directory\n",
      "Reading training dataset...\n",
      "Training tensor examples:\n",
      "Features: {'sentance': tf.RaggedTensor(values=Tensor(\"data:0\", shape=(None,), dtype=string), row_splits=Tensor(\"data_1:0\", shape=(None,), dtype=int64))}\n",
      "Label: Tensor(\"data_2:0\", shape=(None,), dtype=int64)\n",
      "Weights: None\n",
      "Normalized tensor features:\n",
      " {'sentance': SemanticTensor(semantic=<Semantic.CATEGORICAL_SET: 4>, tensor=tf.RaggedTensor(values=Tensor(\"data:0\", shape=(None,), dtype=string), row_splits=Tensor(\"data_1:0\", shape=(None,), dtype=int64)))}\n"
     ]
    },
    {
     "name": "stderr",
     "output_type": "stream",
     "text": [
      "2022-12-26 10:12:12.802917: I tensorflow/core/grappler/optimizers/custom_graph_optimizer_registry.cc:114] Plugin optimizer for device_type GPU is enabled.\n"
     ]
    },
    {
     "name": "stdout",
     "output_type": "stream",
     "text": [
      "Training dataset read in 0:00:02.691408. Found 67349 examples.\n",
      "Training model...\n",
      "Standard output detected as not visible to the user e.g. running in a notebook. Creating a training log redirection. If training get stuck, try calling tfdf.keras.set_training_logs_redirection(False).\n"
     ]
    },
    {
     "name": "stderr",
     "output_type": "stream",
     "text": [
      "[INFO kernel.cc:813] Start Yggdrasil model training\n",
      "[INFO kernel.cc:814] Collect training examples\n",
      "[INFO kernel.cc:422] Number of batches: 674\n",
      "[INFO kernel.cc:423] Number of examples: 67349\n",
      "[INFO data_spec_inference.cc:303] 12816 item(s) have been pruned (i.e. they are considered out of dictionary) for the column sentance (2000 item(s) left) because min_value_count=5 and max_number_of_unique_values=2000\n",
      "[INFO kernel.cc:836] Training dataset:\n",
      "Number of records: 67349\n",
      "Number of columns: 2\n",
      "\n",
      "Number of columns by type:\n",
      "\tCATEGORICAL_SET: 1 (50%)\n",
      "\tCATEGORICAL: 1 (50%)\n",
      "\n",
      "Columns:\n",
      "\n",
      "CATEGORICAL_SET: 1 (50%)\n",
      "\t0: \"sentance\" CATEGORICAL_SET has-dict vocab-size:2001 num-oods:3595 (5.33787%) most-frequent:\"the\" 27205 (40.3941%)\n",
      "\n",
      "CATEGORICAL: 1 (50%)\n",
      "\t1: \"__LABEL\" CATEGORICAL integerized vocab-size:3 no-ood-item\n",
      "\n",
      "Terminology:\n",
      "\tnas: Number of non-available (i.e. missing) values.\n",
      "\tood: Out of dictionary.\n",
      "\tmanually-defined: Attribute which type is manually defined by the user i.e. the type was not automatically inferred.\n",
      "\ttokenized: The attribute value is obtained through tokenization.\n",
      "\thas-dict: The attribute is attached to a string dictionary e.g. a categorical attribute stored as a string.\n",
      "\tvocab-size: Number of unique values.\n",
      "\n",
      "[INFO kernel.cc:882] Configure learner\n",
      "[INFO kernel.cc:912] Training config:\n",
      "learner: \"RANDOM_FOREST\"\n",
      "features: \"sentance\"\n",
      "label: \"__LABEL\"\n",
      "task: CLASSIFICATION\n",
      "random_seed: 123456\n",
      "metadata {\n",
      "  framework: \"TF Keras\"\n",
      "}\n",
      "pure_serving_model: false\n",
      "[yggdrasil_decision_forests.model.random_forest.proto.random_forest_config] {\n",
      "  num_trees: 30\n",
      "  decision_tree {\n",
      "    max_depth: 16\n",
      "    min_examples: 5\n",
      "    in_split_min_examples_check: true\n",
      "    keep_non_leaf_label_distribution: true\n",
      "    num_candidate_attributes: 0\n",
      "    missing_value_policy: GLOBAL_IMPUTATION\n",
      "    allow_na_conditions: false\n",
      "    categorical_set_greedy_forward {\n",
      "      sampling: 0.1\n",
      "      max_num_items: -1\n",
      "      min_item_frequency: 1\n",
      "    }\n",
      "    growing_strategy_local {\n",
      "    }\n",
      "    categorical {\n",
      "      cart {\n",
      "      }\n",
      "    }\n",
      "    axis_aligned_split {\n",
      "    }\n",
      "    internal {\n",
      "      sorting_strategy: PRESORTED\n",
      "    }\n",
      "    uplift {\n",
      "      min_examples_in_treatment: 5\n",
      "      split_score: KULLBACK_LEIBLER\n",
      "    }\n",
      "  }\n",
      "  winner_take_all_inference: true\n",
      "  compute_oob_performances: true\n",
      "  compute_oob_variable_importances: false\n",
      "  num_oob_variable_importances_permutations: 1\n",
      "  bootstrap_training_dataset: true\n",
      "  bootstrap_size_ratio: 1\n",
      "  adapt_bootstrap_size_ratio_for_maximum_training_duration: false\n",
      "  sampling_with_replacement: true\n",
      "}\n",
      "\n",
      "[INFO kernel.cc:915] Deployment config:\n",
      "cache_path: \"/var/folders/sk/f7k402kx1wvdmcz91gdz6hs00000gn/T/tmp1tb0fuw3/working_cache\"\n",
      "num_threads: 8\n",
      "try_resume_training: true\n",
      "\n",
      "[INFO kernel.cc:944] Train model\n",
      "[INFO random_forest.cc:407] Training random forest on 67349 example(s) and 1 feature(s).\n",
      "[INFO random_forest.cc:796] Training of tree  1/30 (tree index:3) done accuracy:0.738185 logloss:9.43677\n",
      "[INFO random_forest.cc:796] Training of tree  9/30 (tree index:8) done accuracy:0.787816 logloss:3.89999\n",
      "[INFO random_forest.cc:796] Training of tree  17/30 (tree index:19) done accuracy:0.805852 logloss:2.7617\n",
      "[INFO random_forest.cc:796] Training of tree  25/30 (tree index:24) done accuracy:0.819285 logloss:1.10362\n",
      "[INFO random_forest.cc:796] Training of tree  30/30 (tree index:29) done accuracy:0.821274 logloss:0.90454\n",
      "[INFO random_forest.cc:876] Final OOB metrics: accuracy:0.821274 logloss:0.90454\n",
      "[INFO kernel.cc:961] Export model in log directory: /var/folders/sk/f7k402kx1wvdmcz91gdz6hs00000gn/T/tmp1tb0fuw3 with prefix ed7d4fdb2d624863\n",
      "[INFO kernel.cc:978] Save model in resources\n",
      "[INFO kernel.cc:1176] Loading model from path /var/folders/sk/f7k402kx1wvdmcz91gdz6hs00000gn/T/tmp1tb0fuw3/model/ with prefix ed7d4fdb2d624863\n",
      "[INFO decision_forest.cc:639] Model loaded with 30 root(s), 42838 node(s), and 1 input feature(s).\n",
      "[INFO abstract_model.cc:1249] Engine \"RandomForestGeneric\" built\n",
      "[INFO kernel.cc:1022] Use fast generic engine\n"
     ]
    },
    {
     "name": "stdout",
     "output_type": "stream",
     "text": [
      "Model trained in 0:01:46.490473\n",
      "Compiling model...\n",
      "WARNING:tensorflow:AutoGraph could not transform <function simple_ml_inference_op_with_handle at 0x175e49550> and will run it as-is.\n",
      "Please report this to the TensorFlow team. When filing the bug, set the verbosity to 10 (on Linux, `export AUTOGRAPH_VERBOSITY=10`) and attach the full output.\n",
      "Cause: could not get source code\n",
      "To silence this warning, decorate the function with @tf.autograph.experimental.do_not_convert\n"
     ]
    },
    {
     "name": "stderr",
     "output_type": "stream",
     "text": [
      "WARNING:tensorflow:AutoGraph could not transform <function simple_ml_inference_op_with_handle at 0x175e49550> and will run it as-is.\n",
      "Please report this to the TensorFlow team. When filing the bug, set the verbosity to 10 (on Linux, `export AUTOGRAPH_VERBOSITY=10`) and attach the full output.\n",
      "Cause: could not get source code\n",
      "To silence this warning, decorate the function with @tf.autograph.experimental.do_not_convert\n"
     ]
    },
    {
     "name": "stdout",
     "output_type": "stream",
     "text": [
      "WARNING: AutoGraph could not transform <function simple_ml_inference_op_with_handle at 0x175e49550> and will run it as-is.\n",
      "Please report this to the TensorFlow team. When filing the bug, set the verbosity to 10 (on Linux, `export AUTOGRAPH_VERBOSITY=10`) and attach the full output.\n",
      "Cause: could not get source code\n",
      "To silence this warning, decorate the function with @tf.autograph.experimental.do_not_convert\n",
      "Model compiled.\n"
     ]
    },
    {
     "name": "stderr",
     "output_type": "stream",
     "text": [
      "2022-12-26 10:14:01.100667: I tensorflow/core/grappler/optimizers/custom_graph_optimizer_registry.cc:114] Plugin optimizer for device_type GPU is enabled.\n",
      "2022-12-26 10:14:01.165209: I tensorflow/core/grappler/optimizers/custom_graph_optimizer_registry.cc:114] Plugin optimizer for device_type GPU is enabled.\n"
     ]
    },
    {
     "data": {
      "text/plain": [
       "<keras.callbacks.History at 0x2811d5700>"
      ]
     },
     "execution_count": 6,
     "metadata": {},
     "output_type": "execute_result"
    }
   ],
   "source": [
    "# specify the model\n",
    "model_1 = tfdf.keras.RandomForestModel(num_trees=30, verbose=2)\n",
    "\n",
    "# train the model\n",
    "model_1.fit(x=train_ds)"
   ]
  },
  {
   "attachments": {},
   "cell_type": "markdown",
   "metadata": {},
   "source": [
    "in previous logs, note the sentence is categorical_set feature\n",
    "\n",
    "The model is evaluated as usual"
   ]
  },
  {
   "cell_type": "code",
   "execution_count": 7,
   "metadata": {},
   "outputs": [
    {
     "name": "stdout",
     "output_type": "stream",
     "text": [
      "9/9 [==============================] - 0s 6ms/step - loss: 0.0000e+00 - accuracy: 0.7661\n",
      "BinaryCrossentropyloss: 0.0\n",
      "Accuracy: 0.7660551071166992\n"
     ]
    },
    {
     "name": "stderr",
     "output_type": "stream",
     "text": [
      "2022-12-26 10:16:34.620173: I tensorflow/core/grappler/optimizers/custom_graph_optimizer_registry.cc:114] Plugin optimizer for device_type GPU is enabled.\n"
     ]
    }
   ],
   "source": [
    "model_1.compile(metrics=[\"accuracy\"])\n",
    "evaluation = model_1.evaluate(test_ds)\n",
    "\n",
    "print(f\"BinaryCrossentropyloss: {evaluation[0]}\")\n",
    "print(f\"Accuracy: {evaluation[1]}\")"
   ]
  },
  {
   "attachments": {},
   "cell_type": "markdown",
   "metadata": {},
   "source": [
    "training logs"
   ]
  },
  {
   "cell_type": "code",
   "execution_count": 9,
   "metadata": {},
   "outputs": [
    {
     "data": {
      "image/png": "[encoded data removed]",
      "text/plain": [
       "<Figure size 640x480 with 1 Axes>"
      ]
     },
     "metadata": {},
     "output_type": "display_data"
    }
   ],
   "source": [
    "import matplotlib.pyplot as plt\n",
    "\n",
    "logs = model_1.make_inspector().training_logs()\n",
    "plt.plot([log.num_trees for log in logs], [log.evaluation.accuracy for log in logs])\n",
    "plt.xlabel(\"Number of trees\")\n",
    "plt.ylabel(\"out-of-bag accuracy\")\n",
    "pass"
   ]
  }
 ],
 "metadata": {
  "kernelspec": {
   "display_name": "keras-env",
   "language": "python",
   "name": "python3"
  },
  "language_info": {
   "codemirror_mode": {
    "name": "ipython",
    "version": 3
   },
   "file_extension": ".py",
   "mimetype": "text/x-python",
   "name": "python",
   "nbconvert_exporter": "python",
   "pygments_lexer": "ipython3",
   "version": "3.8.9"
  },
  "orig_nbformat": 4,
  "vscode": {
   "interpreter": {
    "hash": "0176d8e07f50d6f9d41e4d247411e051f24b378f20831339424b9cbb80e86332"
   }
  }
 },
 "nbformat": 4,
 "nbformat_minor": 2
}
